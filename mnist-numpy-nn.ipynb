{
 "cells": [
  {
   "cell_type": "code",
   "execution_count": 1,
   "id": "507a7454",
   "metadata": {
    "execution": {
     "iopub.execute_input": "2025-04-10T11:32:30.260056Z",
     "iopub.status.busy": "2025-04-10T11:32:30.259557Z",
     "iopub.status.idle": "2025-04-10T11:32:31.295901Z",
     "shell.execute_reply": "2025-04-10T11:32:31.294884Z"
    },
    "papermill": {
     "duration": 1.043225,
     "end_time": "2025-04-10T11:32:31.297928",
     "exception": false,
     "start_time": "2025-04-10T11:32:30.254703",
     "status": "completed"
    },
    "tags": []
   },
   "outputs": [],
   "source": [
    "import pandas as pd\n",
    "import numpy as np\n",
    "import matplotlib.pyplot as plt"
   ]
  },
  {
   "cell_type": "code",
   "execution_count": 2,
   "id": "01dcc22a",
   "metadata": {
    "execution": {
     "iopub.execute_input": "2025-04-10T11:32:31.304891Z",
     "iopub.status.busy": "2025-04-10T11:32:31.304424Z",
     "iopub.status.idle": "2025-04-10T11:32:37.041829Z",
     "shell.execute_reply": "2025-04-10T11:32:37.040555Z"
    },
    "papermill": {
     "duration": 5.743001,
     "end_time": "2025-04-10T11:32:37.043986",
     "exception": false,
     "start_time": "2025-04-10T11:32:31.300985",
     "status": "completed"
    },
    "tags": []
   },
   "outputs": [],
   "source": [
    "train_data = pd.read_csv(\"/kaggle/input/digit-recognizer/train.csv\")\n",
    "test_data = pd.read_csv(\"/kaggle/input/digit-recognizer/test.csv\")\n",
    "\n",
    "\n",
    "Y = train_data[\"label\"].values\n",
    "\n",
    "X = train_data.drop(\"label\", axis=1).values\n",
    "X= X/255.0 #normalize(0-9)\n",
    "\n",
    "X_test = test_data.values\n",
    "X_test = X_test/255.0 #normalize to matched the traning and test scale\n",
    "\n",
    "m = X.shape[0]"
   ]
  },
  {
   "cell_type": "code",
   "execution_count": 3,
   "id": "cb49a983",
   "metadata": {
    "execution": {
     "iopub.execute_input": "2025-04-10T11:32:37.050676Z",
     "iopub.status.busy": "2025-04-10T11:32:37.050190Z",
     "iopub.status.idle": "2025-04-10T11:32:37.067989Z",
     "shell.execute_reply": "2025-04-10T11:32:37.066784Z"
    },
    "papermill": {
     "duration": 0.023351,
     "end_time": "2025-04-10T11:32:37.069982",
     "exception": false,
     "start_time": "2025-04-10T11:32:37.046631",
     "status": "completed"
    },
    "tags": []
   },
   "outputs": [],
   "source": [
    "W1 = np.random.randn(784,64)* np.sqrt(2./784)#input to hidden layer\n",
    "W2= np.random.randn(64,10)* np.sqrt(2./64)#hidden to output layer\n",
    "\n",
    "B1 = np.zeros((1,64))#input to hidden\n",
    "B2 = np.zeros((1,10))#hidden to output\n",
    "\n",
    "#one hot encoding\n",
    "E = np.zeros((m,10))\n",
    "E[np.arange(m), Y] = 1\n",
    "\n",
    "def forwardpropagation(X, W1, W2, B1, B2):\n",
    "    Z1 = np.dot(X, W1) +B1\n",
    "    A1 = relu(Z1)\n",
    "    \n",
    "\n",
    "\n",
    "    Z2 = np.dot(A1,W2) +B2\n",
    "    A2 = softmax(Z2)\n",
    "    return Z1, A1, Z2, A2\n",
    "    \n",
    "\n",
    "def entropy_loss(A2, E):\n",
    "    return -np.mean(np.sum(E * np.log(np.clip(A2, 1e-9, 1.0)), axis=1))\n",
    "\n",
    "def relu(Z):\n",
    "    return np.maximum(0,Z)\n",
    "\n",
    "def relu_derivative(Z):\n",
    "    return (Z>0).astype(float)\n",
    "\n",
    "def softmax(Z):\n",
    "    expZ = np.exp(Z- np.max(Z, axis=1, keepdims=True))\n",
    "    return expZ/np.sum(expZ, axis=1, keepdims=True)\n",
    "\n",
    "def backpropagation(W1, W2, B1, B2, X, E, A1, A2, Z1, Z2, learning_rate=0.001):\n",
    "    batch_size = X.shape[0]  # Add this line\n",
    "    dZ2 = A2 - E\n",
    "    dW2 = np.dot(A1.T, dZ2) / batch_size \n",
    "    dB2 = np.sum(dZ2, axis=0, keepdims=True) / batch_size  \n",
    "    dA1 = np.dot(dZ2, W2.T)\n",
    "    dZ1 = dA1 * relu_derivative(Z1)\n",
    "    dB1 = np.sum(dZ1, axis=0, keepdims=True) / batch_size \n",
    "    dW1 = np.dot(X.T, dZ1) / batch_size  \n",
    "\n",
    "    # gradient descent\n",
    "    W1 -= learning_rate*dW1\n",
    "    W2 -= learning_rate*dW2\n",
    "    B1 -= learning_rate*dB1\n",
    "    B2 -= learning_rate*dB2\n",
    "    return W1, W2, B1, B2"
   ]
  },
  {
   "cell_type": "code",
   "execution_count": 4,
   "id": "23bda01a",
   "metadata": {
    "execution": {
     "iopub.execute_input": "2025-04-10T11:32:37.076525Z",
     "iopub.status.busy": "2025-04-10T11:32:37.076161Z",
     "iopub.status.idle": "2025-04-10T11:33:47.782285Z",
     "shell.execute_reply": "2025-04-10T11:33:47.781019Z"
    },
    "papermill": {
     "duration": 70.71167,
     "end_time": "2025-04-10T11:33:47.784281",
     "exception": false,
     "start_time": "2025-04-10T11:32:37.072611",
     "status": "completed"
    },
    "tags": []
   },
   "outputs": [
    {
     "name": "stdout",
     "output_type": "stream",
     "text": [
      "Epoch 0: Loss = 1.8537\n",
      "Epoch 10: Loss = 0.5413\n",
      "Epoch 20: Loss = 0.4138\n",
      "Epoch 30: Loss = 0.3635\n",
      "Epoch 40: Loss = 0.3340\n",
      "Epoch 50: Loss = 0.3133\n",
      "Epoch 60: Loss = 0.2972\n",
      "Epoch 70: Loss = 0.2840\n",
      "Epoch 80: Loss = 0.2726\n",
      "Epoch 90: Loss = 0.2626\n"
     ]
    },
    {
     "data": {
      "image/png": "[encoded data removed]",
      "text/plain": [
       "<Figure size 640x480 with 1 Axes>"
      ]
     },
     "metadata": {},
     "output_type": "display_data"
    },
    {
     "name": "stdout",
     "output_type": "stream",
     "text": [
      "Model Accuracy: 92.90%\n"
     ]
    }
   ],
   "source": [
    "# Hyperparameters\n",
    "learning_rate = 0.001  # Start with 0.001, adjust if needed\n",
    "epochs = 100\n",
    "batch_size = 64\n",
    "loss_history = []\n",
    "\n",
    "# Training Loop\n",
    "for epoch in range(epochs):\n",
    "    for i in range(0, m, batch_size):\n",
    "        X_batch = X[i:i+batch_size]\n",
    "        E_batch = E[i:i+batch_size]\n",
    "        \n",
    "        # Forward/Backprop\n",
    "        Z1, A1, Z2, A2 = forwardpropagation(X_batch, W1, W2, B1, B2)\n",
    "        W1, W2, B1, B2 = backpropagation(W1, W2, B1, B2, X_batch, E_batch, A1, A2, Z1, Z2, learning_rate)\n",
    "    \n",
    "    # Track loss every epoch (optional: every 10 epochs)\n",
    "    _, _, _, A2_full = forwardpropagation(X, W1, W2, B1, B2)\n",
    "    loss = entropy_loss(A2_full, E)\n",
    "    loss_history.append(loss)\n",
    "    if epoch % 10 == 0:\n",
    "        print(f\"Epoch {epoch}: Loss = {loss:.4f}\")\n",
    "\n",
    "# Plotting\n",
    "plt.plot(loss_history)\n",
    "plt.xlabel(\"Epochs\")\n",
    "plt.ylabel(\"Loss\")\n",
    "plt.title(\"Training Loss Over Time\")\n",
    "plt.show()\n",
    "\n",
    "# Accuracy Check\n",
    "_, _, _, final_prediction = forwardpropagation(X, W1, W2, B1, B2)\n",
    "predicted_label = np.argmax(final_prediction, axis=1)\n",
    "true_labels = Y  # No need for one-hot decode; Y is already labels\n",
    "accuracy = np.mean(predicted_label == true_labels) * 100\n",
    "print(f\"Model Accuracy: {accuracy:.2f}%\")"
   ]
  },
  {
   "cell_type": "code",
   "execution_count": 5,
   "id": "66bf157b",
   "metadata": {
    "execution": {
     "iopub.execute_input": "2025-04-10T11:33:47.793403Z",
     "iopub.status.busy": "2025-04-10T11:33:47.792976Z",
     "iopub.status.idle": "2025-04-10T11:33:47.799549Z",
     "shell.execute_reply": "2025-04-10T11:33:47.798300Z"
    },
    "papermill": {
     "duration": 0.013281,
     "end_time": "2025-04-10T11:33:47.801515",
     "exception": false,
     "start_time": "2025-04-10T11:33:47.788234",
     "status": "completed"
    },
    "tags": []
   },
   "outputs": [],
   "source": [
    "def make_predictions(X, W1, b1, W2, b2):\n",
    "    _, _, _, A2 = forwardpropagation(X, W1, W2, b1, b2)\n",
    "    predictions = np.argmax(A2, axis=1)\n",
    "    return predictions\n",
    "\n",
    "def test_prediction(index, W1, b1, W2, b2):\n",
    "    current_image = X[index].reshape((28, 28)) * 255\n",
    "    prediction = make_predictions(X[index].reshape(1, -1), W1, b1, W2, b2)\n",
    "    label = Y[index]\n",
    "\n",
    "    print(\"Prediction: \", prediction[0])\n",
    "    print(\"Label: \", label)\n",
    "\n",
    "    plt.gray()\n",
    "    plt.imshow(current_image, interpolation='nearest')\n",
    "    plt.show()\n"
   ]
  },
  {
   "cell_type": "code",
   "execution_count": 6,
   "id": "51442a15",
   "metadata": {
    "execution": {
     "iopub.execute_input": "2025-04-10T11:33:47.810312Z",
     "iopub.status.busy": "2025-04-10T11:33:47.809931Z",
     "iopub.status.idle": "2025-04-10T11:33:47.978068Z",
     "shell.execute_reply": "2025-04-10T11:33:47.976862Z"
    },
    "papermill": {
     "duration": 0.175662,
     "end_time": "2025-04-10T11:33:47.981007",
     "exception": false,
     "start_time": "2025-04-10T11:33:47.805345",
     "status": "completed"
    },
    "tags": []
   },
   "outputs": [
    {
     "name": "stdout",
     "output_type": "stream",
     "text": [
      "Prediction:  0\n",
      "Label:  0\n"
     ]
    },
    {
     "data": {
      "image/png": "[encoded data removed]",
      "text/plain": [
       "<Figure size 640x480 with 1 Axes>"
      ]
     },
     "metadata": {},
     "output_type": "display_data"
    }
   ],
   "source": [
    "test_prediction(17, W1, B1, W2, B2)\n",
    "\n"
   ]
  },
  {
   "cell_type": "code",
   "execution_count": null,
   "id": "d9de257b",
   "metadata": {
    "papermill": {
     "duration": 0.003704,
     "end_time": "2025-04-10T11:33:47.989008",
     "exception": false,
     "start_time": "2025-04-10T11:33:47.985304",
     "status": "completed"
    },
    "tags": []
   },
   "outputs": [],
   "source": []
  }
 ],
 "metadata": {
  "kaggle": {
   "accelerator": "none",
   "dataSources": [
    {
     "databundleVersionId": 861823,
     "sourceId": 3004,
     "sourceType": "competition"
    }
   ],
   "dockerImageVersionId": 30918,
   "isGpuEnabled": false,
   "isInternetEnabled": false,
   "language": "python",
   "sourceType": "notebook"
  },
  "kernelspec": {
   "display_name": "Python 3",
   "language": "python",
   "name": "python3"
  },
  "language_info": {
   "codemirror_mode": {
    "name": "ipython",
    "version": 3
   },
   "file_extension": ".py",
   "mimetype": "text/x-python",
   "name": "python",
   "nbconvert_exporter": "python",
   "pygments_lexer": "ipython3",
   "version": "3.10.12"
  },
  "papermill": {
   "default_parameters": {},
   "duration": 82.068574,
   "end_time": "2025-04-10T11:33:48.614935",
   "environment_variables": {},
   "exception": null,
   "input_path": "__notebook__.ipynb",
   "output_path": "__notebook__.ipynb",
   "parameters": {},
   "start_time": "2025-04-10T11:32:26.546361",
   "version": "2.6.0"
  }
 },
 "nbformat": 4,
 "nbformat_minor": 5
}
